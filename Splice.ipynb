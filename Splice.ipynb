{
 "cells": [
  {
   "cell_type": "code",
   "execution_count": 1,
   "metadata": {},
   "outputs": [],
   "source": [
    "import pandas as pd\n",
    "import numpy as np\n",
    "import scipy\n",
    "from scipy.sparse import find\n",
    "import scipy.stats\n",
    "import os\n",
    "import scipy.io as sio\n",
    "import scipy.ndimage\n",
    "import dnatools\n",
    "%matplotlib inline\n",
    "from pylab import *\n",
    "\n",
    "# Plotting Params:\n",
    "rc('mathtext', default='regular')\n",
    "fsize=20"
   ]
  },
  {
   "cell_type": "code",
   "execution_count": 2,
   "metadata": {},
   "outputs": [],
   "source": [
    "data = sio.loadmat('/Users/niyanth/Documents/data_gz/Reads.mat')\n",
    "# A5SS\n",
    "A5SS_data = data['A5SS']\n",
    "A5SS_reads = np.array(A5SS_data.sum(1)).flatten()\n",
    "A5SS_data = np.array(A5SS_data.todense())\n",
    "# Get minigenes with reads\n",
    "A5SS_nn = find(A5SS_data.sum(axis=1))\n",
    "\n",
    "A5SS_reads = A5SS_reads[A5SS_nn[1]]\n",
    "A5SS_data = A5SS_data[A5SS_nn[1]]\n",
    "A5SS_data = A5SS_data/A5SS_data.sum(axis=1)[:,newaxis]\n",
    "A5SS_seqs = pd.read_csv('/Users/niyanth/Documents/data_gz/A5SS_Seqs.csv',index_col=0).Seq[A5SS_nn[1]]"
   ]
  },
  {
   "cell_type": "code",
   "execution_count": 238,
   "metadata": {},
   "outputs": [
    {
     "data": {
      "text/plain": [
       "(265044, 304)"
      ]
     },
     "execution_count": 238,
     "metadata": {},
     "output_type": "execute_result"
    }
   ],
   "source": [
    "A5SS_data.shape"
   ]
  },
  {
   "cell_type": "code",
   "execution_count": 205,
   "metadata": {},
   "outputs": [
    {
     "data": {
      "text/plain": [
       "(array([0, 0, 0, ..., 0, 0, 0], dtype=int32),\n",
       " array([     0,      1,      2, ..., 265134, 265135, 265136], dtype=int32),\n",
       " array([26., 46., 19., ..., 50., 35., 55.]))"
      ]
     },
     "execution_count": 205,
     "metadata": {},
     "output_type": "execute_result"
    }
   ],
   "source": [
    "A5SS_nn"
   ]
  },
  {
   "cell_type": "code",
   "execution_count": 188,
   "metadata": {},
   "outputs": [],
   "source": [
    "A5SS_nn1 = []\n",
    "for i in range(len(A5SS_nn[2])):\n",
    "    A5SS_nn1.append(int(A5SS_nn[2][i]))"
   ]
  },
  {
   "cell_type": "code",
   "execution_count": 223,
   "metadata": {},
   "outputs": [
    {
     "data": {
      "text/plain": [
       "array([26., 46., 19., ..., 50., 35., 55.])"
      ]
     },
     "execution_count": 223,
     "metadata": {},
     "output_type": "execute_result"
    }
   ],
   "source": [
    "A5SS_reads = np.array(A5SS_data.sum(1)).flatten()\n",
    "A5SS_reads"
   ]
  },
  {
   "cell_type": "code",
   "execution_count": 224,
   "metadata": {},
   "outputs": [
    {
     "data": {
      "text/plain": [
       "array([26., 46., 19., ..., 50., 35., 55.])"
      ]
     },
     "execution_count": 224,
     "metadata": {},
     "output_type": "execute_result"
    }
   ],
   "source": [
    "A5SS_reads = np.array(A5SS_data.sum(1))\n",
    "A5SS_reads"
   ]
  },
  {
   "cell_type": "code",
   "execution_count": 184,
   "metadata": {},
   "outputs": [
    {
     "data": {
      "text/plain": [
       "26.0"
      ]
     },
     "execution_count": 184,
     "metadata": {},
     "output_type": "execute_result"
    }
   ],
   "source": [
    "A5SS_nn[2][0] = int(A5SS_nn[2][0])\n",
    "A5SS_nn[2][0]"
   ]
  },
  {
   "cell_type": "code",
   "execution_count": 194,
   "metadata": {},
   "outputs": [
    {
     "data": {
      "text/plain": [
       "1.0"
      ]
     },
     "execution_count": 194,
     "metadata": {},
     "output_type": "execute_result"
    }
   ],
   "source": [
    "A5SS_reads = np.array(A5SS_data.sum(1)).flatten()\n",
    "A5SS_reads[0]"
   ]
  },
  {
   "cell_type": "code",
   "execution_count": 221,
   "metadata": {},
   "outputs": [
    {
     "data": {
      "text/plain": [
       "array([26., 46., 19., ..., 50., 35., 55.])"
      ]
     },
     "execution_count": 221,
     "metadata": {},
     "output_type": "execute_result"
    }
   ],
   "source": [
    "np.array(A5SS_data.sum(1)).flatten()"
   ]
  },
  {
   "cell_type": "code",
   "execution_count": 199,
   "metadata": {},
   "outputs": [
    {
     "name": "stdout",
     "output_type": "stream",
     "text": [
      "  (1, 0)\t5.0\n",
      "  (2, 0)\t4.0\n",
      "  (3, 0)\t109.0\n",
      "  (4, 0)\t5.0\n",
      "  (6, 0)\t1.0\n",
      "  (8, 0)\t11.0\n",
      "  (10, 0)\t1.0\n",
      "  (12, 0)\t8.0\n",
      "  (13, 0)\t67.0\n",
      "  (14, 0)\t1.0\n",
      "  (15, 0)\t34.0\n",
      "  (16, 0)\t16.0\n",
      "  (17, 0)\t3.0\n",
      "  (18, 0)\t5.0\n",
      "  (19, 0)\t1.0\n",
      "  (20, 0)\t10.0\n",
      "  (21, 0)\t3.0\n",
      "  (22, 0)\t161.0\n",
      "  (24, 0)\t1.0\n",
      "  (26, 0)\t103.0\n",
      "  (27, 0)\t1.0\n",
      "  (28, 0)\t3.0\n",
      "  (30, 0)\t1.0\n",
      "  (31, 0)\t1.0\n",
      "  (32, 0)\t11.0\n",
      "  :\t:\n",
      "  (265107, 303)\t8.0\n",
      "  (265108, 303)\t3.0\n",
      "  (265109, 303)\t3.0\n",
      "  (265110, 303)\t5.0\n",
      "  (265111, 303)\t4.0\n",
      "  (265113, 303)\t2.0\n",
      "  (265114, 303)\t2.0\n",
      "  (265115, 303)\t5.0\n",
      "  (265119, 303)\t4.0\n",
      "  (265120, 303)\t8.0\n",
      "  (265121, 303)\t5.0\n",
      "  (265122, 303)\t4.0\n",
      "  (265123, 303)\t1.0\n",
      "  (265124, 303)\t1.0\n",
      "  (265125, 303)\t2.0\n",
      "  (265126, 303)\t6.0\n",
      "  (265127, 303)\t4.0\n",
      "  (265128, 303)\t3.0\n",
      "  (265129, 303)\t4.0\n",
      "  (265131, 303)\t2.0\n",
      "  (265132, 303)\t3.0\n",
      "  (265133, 303)\t3.0\n",
      "  (265134, 303)\t2.0\n",
      "  (265135, 303)\t3.0\n",
      "  (265136, 303)\t4.0\n"
     ]
    }
   ],
   "source": [
    "print(A5SS_data)"
   ]
  },
  {
   "cell_type": "code",
   "execution_count": 3,
   "metadata": {},
   "outputs": [],
   "source": [
    "def make_padded_nmer_matrix(seqs,mer_len):\n",
    "    mer_dict = dict(zip(dnatools.make_mer_list(6),range(4**6)))\n",
    "    rows,cols,vals = [],[],[]\n",
    "    for i in range(len(seqs)):\n",
    "        cur_seq = A5SS_seqs[i]\n",
    "        for b in [*range(7-mer_len,32), *range(50-mer_len,75)]:\n",
    "            cur_mer = cur_seq[b:b+mer_len]\n",
    "            cur_mer_list_pos = mer_dict[cur_mer]\n",
    "            rows.append(i)\n",
    "            cols.append(cur_mer_list_pos+4**mer_len*(b+80))\n",
    "            vals.append(1)\n",
    "        if(i%10000)==0:\n",
    "            print (i,)\n",
    "            \n",
    "        # Add a zero to the bottom right of the matrix to ensure the\n",
    "        # correct size\n",
    "        rows.append(len(A5SS_data)-1)\n",
    "        cols.append(4**6*230-1)\n",
    "        vals.append(0)\n",
    "    X = scipy.sparse.csr_matrix((vals,(rows,cols)))\n",
    "    return X"
   ]
  },
  {
   "cell_type": "code",
   "execution_count": 4,
   "metadata": {},
   "outputs": [
    {
     "name": "stdout",
     "output_type": "stream",
     "text": [
      "0\n",
      "10000\n",
      "20000\n",
      "30000\n",
      "40000\n",
      "50000\n",
      "60000\n",
      "70000\n",
      "80000\n",
      "90000\n",
      "100000\n",
      "110000\n",
      "120000\n",
      "130000\n",
      "140000\n",
      "150000\n",
      "160000\n",
      "170000\n",
      "180000\n",
      "190000\n",
      "200000\n",
      "210000\n",
      "220000\n",
      "230000\n",
      "240000\n",
      "250000\n",
      "260000\n"
     ]
    }
   ],
   "source": [
    "X = make_padded_nmer_matrix(A5SS_seqs,6)\n"
   ]
  },
  {
   "cell_type": "code",
   "execution_count": 5,
   "metadata": {},
   "outputs": [
    {
     "name": "stdout",
     "output_type": "stream",
     "text": [
      "  (0, 335455)\t1\n",
      "  (0, 338301)\t1\n",
      "  (0, 341495)\t1\n",
      "  (0, 346076)\t1\n",
      "  (0, 352112)\t1\n",
      "  (0, 355779)\t1\n",
      "  (0, 358156)\t1\n",
      "  (0, 363570)\t1\n",
      "  (0, 364744)\t1\n",
      "  (0, 369443)\t1\n",
      "  (0, 375948)\t1\n",
      "  (0, 377395)\t1\n",
      "  (0, 383180)\t1\n",
      "  (0, 385840)\t1\n",
      "  (0, 392384)\t1\n",
      "  (0, 393987)\t1\n",
      "  (0, 400396)\t1\n",
      "  (0, 401459)\t1\n",
      "  (0, 405708)\t1\n",
      "  (0, 410416)\t1\n",
      "  (0, 416962)\t1\n",
      "  (0, 418570)\t1\n",
      "  (0, 425000)\t1\n",
      "  (0, 426144)\t1\n",
      "  (0, 430720)\t1\n",
      "  :\t:\n",
      "  (265043, 540292)\t1\n",
      "  (265043, 543251)\t1\n",
      "  (265043, 546895)\t1\n",
      "  (265043, 549181)\t1\n",
      "  (265043, 554228)\t1\n",
      "  (265043, 558033)\t1\n",
      "  (265043, 565061)\t1\n",
      "  (265043, 568596)\t1\n",
      "  (265043, 570451)\t1\n",
      "  (265043, 573772)\t1\n",
      "  (265043, 578866)\t1\n",
      "  (265043, 582857)\t1\n",
      "  (265043, 586534)\t1\n",
      "  (265043, 593048)\t1\n",
      "  (265043, 594528)\t1\n",
      "  (265043, 600450)\t1\n",
      "  (265043, 603659)\t1\n",
      "  (265043, 608303)\t1\n",
      "  (265043, 610494)\t1\n",
      "  (265043, 615163)\t1\n",
      "  (265043, 621548)\t1\n",
      "  (265043, 626611)\t1\n",
      "  (265043, 630479)\t1\n",
      "  (265043, 633661)\t1\n",
      "  (265043, 942079)\t0\n"
     ]
    }
   ],
   "source": [
    "print(X)"
   ]
  },
  {
   "cell_type": "code",
   "execution_count": 6,
   "metadata": {},
   "outputs": [],
   "source": [
    "Y = scipy.matrix(A5SS_data)"
   ]
  },
  {
   "cell_type": "code",
   "execution_count": 7,
   "metadata": {},
   "outputs": [
    {
     "name": "stderr",
     "output_type": "stream",
     "text": [
      "<ipython-input-7-dcea77943f82>:1: DeprecationWarning: scipy.hstack is deprecated and will be removed in SciPy 2.0.0, use numpy.hstack instead\n",
      "  Y = scipy.hstack((Y[:,:80],Y[:,-1:]))\n"
     ]
    }
   ],
   "source": [
    "Y = scipy.hstack((Y[:,:80],Y[:,-1:]))\n"
   ]
  },
  {
   "cell_type": "code",
   "execution_count": 247,
   "metadata": {},
   "outputs": [
    {
     "data": {
      "text/plain": [
       "(265044, 942080)"
      ]
     },
     "execution_count": 247,
     "metadata": {},
     "output_type": "execute_result"
    }
   ],
   "source": [
    "X.shape"
   ]
  },
  {
   "cell_type": "code",
   "execution_count": 249,
   "metadata": {},
   "outputs": [
    {
     "data": {
      "text/plain": [
       "(265044, 81)"
      ]
     },
     "execution_count": 249,
     "metadata": {},
     "output_type": "execute_result"
    }
   ],
   "source": [
    "Y.shape"
   ]
  },
  {
   "cell_type": "code",
   "execution_count": 8,
   "metadata": {},
   "outputs": [],
   "source": [
    "from sklearn.model_selection import train_test_split\n",
    "\n",
    "x_train, x_test, y_train, y_test = train_test_split(X,Y,test_size=0.2)\n",
    "\n"
   ]
  },
  {
   "cell_type": "code",
   "execution_count": null,
   "metadata": {},
   "outputs": [],
   "source": [
    "from sklearn.linear_model import LinearRegression\n",
    "\n",
    "reg = LinearRegression().fit(X, Y)\n",
    "reg.score(X, Y)"
   ]
  },
  {
   "cell_type": "code",
   "execution_count": null,
   "metadata": {},
   "outputs": [],
   "source": [
    "#                                                   Logistic Regression\n",
    "\n",
    "from sklearn.linear_model import LogisticRegression\n",
    "\n",
    "log_clf = LogisticRegression(random_state=0)\n",
    "log_clf.fit(x_train, y_train)\n",
    "prediction = log_clf.predict(x_test)\n",
    "accuracy = metrics.accuracy_score(y_test, prediction)\n",
    "probability = log_clf.predict_proba(x_test)\n",
    "print(\"accuracy: \" +str(accuracy))"
   ]
  },
  {
   "cell_type": "code",
   "execution_count": null,
   "metadata": {},
   "outputs": [],
   "source": [
    "#                                                  SVC\n",
    "\n",
    "svc_clf = SVC()\n",
    "svc_clf.fit(x_train, y_train)\n",
    "prediction = svc_clf.predict(x_test)\n",
    "accuracy = metrics.accuracy_score(y_test,prediction)\n",
    "print(\"accuracy: \" + str(accuracy))"
   ]
  },
  {
   "cell_type": "code",
   "execution_count": null,
   "metadata": {},
   "outputs": [],
   "source": [
    "#                                                  KNN\n",
    "\n",
    "neigh = KNeighborsClassifier(n_neighbors=3)\n",
    "neigh.fit(x_train, y_train)\n",
    "prediction = neigh.predict(x_test)\n",
    "accuracy = metrics.accuracy_score(y_test,prediction)\n",
    "print(\"accuracy: \" + str(accuracy))\n"
   ]
  },
  {
   "cell_type": "code",
   "execution_count": 9,
   "metadata": {},
   "outputs": [],
   "source": [
    "#                                                  CNN\n",
    "\n",
    "import tensorflow as tf\n",
    "import pandas as pd\n",
    "import numpy as np\n",
    "import matplotlib.pyplot as plt\n",
    "%matplotlib inline\n",
    "\n",
    "# If you would like to make further imports from Tensorflow, add them here\n",
    "from tensorflow.keras.models import Sequential\n",
    "from tensorflow.keras.layers import Dense, Flatten, Conv2D, MaxPooling2D\n",
    "from tensorflow.keras.preprocessing import image"
   ]
  },
  {
   "cell_type": "code",
   "execution_count": 264,
   "metadata": {},
   "outputs": [
    {
     "data": {
      "text/plain": [
       "(212035, 942080)"
      ]
     },
     "execution_count": 264,
     "metadata": {},
     "output_type": "execute_result"
    }
   ],
   "source": [
    "x_train.shape"
   ]
  },
  {
   "cell_type": "code",
   "execution_count": null,
   "metadata": {},
   "outputs": [],
   "source": [
    "x_train = x_train[..., np.newaxis]\n",
    "x_test = x_test[..., np.newaxis]"
   ]
  },
  {
   "cell_type": "code",
   "execution_count": 2,
   "metadata": {},
   "outputs": [],
   "source": [
    "def get_model(input_shape):\n",
    "    model = Sequential([\n",
    "        Conv2D(8, (3,3), activation='relu', padding='same', input_shape= (212035, 942080, 1)),\n",
    "        MaxPooling2D((2,2), padding='same'),\n",
    "        Flatten(),\n",
    "        Dense(64, activation='relu'),\n",
    "        Dense(64, activation='relu'),\n",
    "        Dense(10, activation='softmax'),\n",
    "    ])\n",
    "    return(model)"
   ]
  },
  {
   "cell_type": "code",
   "execution_count": null,
   "metadata": {},
   "outputs": [],
   "source": [
    "model = get_model(x_train.shape)\n"
   ]
  },
  {
   "cell_type": "code",
   "execution_count": null,
   "metadata": {},
   "outputs": [],
   "source": [
    "def compile_model(model):\n",
    "    opt = tf.keras.optimizers.Adam()\n",
    "    model.compile(optimizer=opt,\n",
    "                 loss='sparse_categorical_crossentropy',\n",
    "                 metrics = ['accuracy'])"
   ]
  },
  {
   "cell_type": "code",
   "execution_count": null,
   "metadata": {},
   "outputs": [],
   "source": [
    "compile_model(model)"
   ]
  },
  {
   "cell_type": "code",
   "execution_count": null,
   "metadata": {},
   "outputs": [],
   "source": [
    "def train_model(model, x_train, y_train):\n",
    "    model.fit(x_train, y_train, epochs=5)"
   ]
  },
  {
   "cell_type": "code",
   "execution_count": null,
   "metadata": {},
   "outputs": [],
   "source": [
    "history = train_model(model, x_train, y_train)"
   ]
  },
  {
   "cell_type": "code",
   "execution_count": null,
   "metadata": {},
   "outputs": [],
   "source": [
    "def evaluate_model(model, x_test, y_test):\n",
    "    model.evaluate(x_test, y_test, verbose=2)"
   ]
  },
  {
   "cell_type": "code",
   "execution_count": null,
   "metadata": {},
   "outputs": [],
   "source": [
    "test_loss, test_accuracy = evaluate_model(model, x_test, y_test)\n",
    "print(f\"Test loss: {test_loss}\")\n",
    "print(f\"Test accuracy: {test_accuracy}\")"
   ]
  },
  {
   "cell_type": "code",
   "execution_count": 60,
   "metadata": {},
   "outputs": [
    {
     "name": "stdout",
     "output_type": "stream",
     "text": [
      "['TGCTTGGTGAAGACAGAGAAAGAGAACCAAAAGGTCGACCCAGGTTCGTGAATCCGGTAACGCGGAGAGAATACAGAGGTATTCTTATCACCTTCGTGGCT']\n"
     ]
    },
    {
     "data": {
      "text/plain": [
       "\"['TGCTTGGTGAAGACAGAGAAAGAGAACCAAAAGGTCGACCCAGGTTCGTGAATCCGGTAACGCGGAGAGAATACAGAGGTATTCTTATCACCTTCGTGGCT']\""
      ]
     },
     "execution_count": 60,
     "metadata": {},
     "output_type": "execute_result"
    }
   ],
   "source": [
    "arr = np.array(A5SS_seqs)\n",
    "print(arr[0])\n",
    "string = str(arr[0])\n",
    "len(string)\n",
    "string"
   ]
  },
  {
   "cell_type": "code",
   "execution_count": 37,
   "metadata": {},
   "outputs": [
    {
     "data": {
      "text/plain": [
       "13257452.0"
      ]
     },
     "execution_count": 37,
     "metadata": {},
     "output_type": "execute_result"
    }
   ],
   "source": [
    "np.sum(A5SS_reads, axis = 0)"
   ]
  },
  {
   "cell_type": "code",
   "execution_count": 66,
   "metadata": {},
   "outputs": [
    {
     "data": {
      "text/plain": [
       "array([[ 0.,  0.,  0., ...,  0.,  0.,  4.],\n",
       "       [ 5.,  0.,  0., ...,  0.,  0., 22.],\n",
       "       [ 4.,  0.,  0., ...,  0.,  0.,  4.],\n",
       "       ...,\n",
       "       [44.,  0.,  0., ...,  0.,  0.,  2.],\n",
       "       [ 0.,  0.,  0., ...,  0.,  0.,  3.],\n",
       "       [ 1.,  0.,  0., ...,  0.,  0.,  4.]])"
      ]
     },
     "execution_count": 66,
     "metadata": {},
     "output_type": "execute_result"
    }
   ],
   "source": [
    "A5SS_data"
   ]
  },
  {
   "cell_type": "code",
   "execution_count": 67,
   "metadata": {},
   "outputs": [
    {
     "data": {
      "text/plain": [
       "array([26., 46., 19., ..., 50., 35., 55.])"
      ]
     },
     "execution_count": 67,
     "metadata": {},
     "output_type": "execute_result"
    }
   ],
   "source": [
    "A5SS_reads"
   ]
  },
  {
   "cell_type": "code",
   "execution_count": 68,
   "metadata": {},
   "outputs": [
    {
     "data": {
      "text/html": [
       "<div>\n",
       "<style scoped>\n",
       "    .dataframe tbody tr th:only-of-type {\n",
       "        vertical-align: middle;\n",
       "    }\n",
       "\n",
       "    .dataframe tbody tr th {\n",
       "        vertical-align: top;\n",
       "    }\n",
       "\n",
       "    .dataframe thead th {\n",
       "        text-align: right;\n",
       "    }\n",
       "</style>\n",
       "<table border=\"1\" class=\"dataframe\">\n",
       "  <thead>\n",
       "    <tr style=\"text-align: right;\">\n",
       "      <th></th>\n",
       "      <th>Seq</th>\n",
       "    </tr>\n",
       "    <tr>\n",
       "      <th>Tag</th>\n",
       "      <th></th>\n",
       "    </tr>\n",
       "  </thead>\n",
       "  <tbody>\n",
       "    <tr>\n",
       "      <th>CATTACCTGCGCCCTTTCCGCCCTTATCTA</th>\n",
       "      <td>TGCTTGGTGAAGACAGAGAAAGAGAACCAAAAGGTCGACCCAGGTT...</td>\n",
       "    </tr>\n",
       "    <tr>\n",
       "      <th>CATTACCTGCTTTAACCTTCTCGCCTTATC</th>\n",
       "      <td>TGCTTGGTAAACAGGTTAAGGAACGTAACAATGGTCGACCCAGGTT...</td>\n",
       "    </tr>\n",
       "    <tr>\n",
       "      <th>CATTACCTGCAACTACCCTCCTGTTCGTAA</th>\n",
       "      <td>TGCTTGGTTGAGAGCTGAGCTCACACAGGGTGGGTCGACCCAGGTT...</td>\n",
       "    </tr>\n",
       "    <tr>\n",
       "      <th>CATTACCTGCGTTTTCACCGGCCGCTTAGA</th>\n",
       "      <td>TGCTTGGGAGAAAGGGCGGGGAAGGGAAAGCAGGTCGACCCAGGTT...</td>\n",
       "    </tr>\n",
       "    <tr>\n",
       "      <th>CATTACCTGCCTGTACTTGACCTATTTGAT</th>\n",
       "      <td>TGCTTGGGTACGGATAGGAAGGGGACACAGGGGGTCGACCCAGGTT...</td>\n",
       "    </tr>\n",
       "    <tr>\n",
       "      <th>...</th>\n",
       "      <td>...</td>\n",
       "    </tr>\n",
       "    <tr>\n",
       "      <th>CATTACCTGCATGCCGGCACACTCCCCCGC</th>\n",
       "      <td>TGCTTGGAAGGGTTGAAATACATACGGGTAACGGTCGACCCAGGTT...</td>\n",
       "    </tr>\n",
       "    <tr>\n",
       "      <th>CATTACCTGCGAAACCCTGCCTCTAGTCCA</th>\n",
       "      <td>TGCTTGGTTTATGGTGGTGGAGAGAGAGCAGGGGTCGACCCAGGTT...</td>\n",
       "    </tr>\n",
       "    <tr>\n",
       "      <th>CATTACCTGCCGGCTTGGAGTACCCCTCCT</th>\n",
       "      <td>TGCTTGGGTAATGAATCGGGTGGAGAAAAACGGGTCGACCCAGGTT...</td>\n",
       "    </tr>\n",
       "    <tr>\n",
       "      <th>CATTACCTGCGACCACACGCTCTGGTCCAC</th>\n",
       "      <td>TGCTTGGATGCGGTCAAGAAGGGATAGGTACCGGTCGACCCAGGTT...</td>\n",
       "    </tr>\n",
       "    <tr>\n",
       "      <th>CATTACCTGCCTTCTTGTGCGGCCTGTCCC</th>\n",
       "      <td>TGCTTGGGGTCCGCGCATCGTTCACAAAGGAAGGTCGACCCAGGTT...</td>\n",
       "    </tr>\n",
       "  </tbody>\n",
       "</table>\n",
       "<p>265137 rows × 1 columns</p>\n",
       "</div>"
      ],
      "text/plain": [
       "                                                                              Seq\n",
       "Tag                                                                              \n",
       "CATTACCTGCGCCCTTTCCGCCCTTATCTA  TGCTTGGTGAAGACAGAGAAAGAGAACCAAAAGGTCGACCCAGGTT...\n",
       "CATTACCTGCTTTAACCTTCTCGCCTTATC  TGCTTGGTAAACAGGTTAAGGAACGTAACAATGGTCGACCCAGGTT...\n",
       "CATTACCTGCAACTACCCTCCTGTTCGTAA  TGCTTGGTTGAGAGCTGAGCTCACACAGGGTGGGTCGACCCAGGTT...\n",
       "CATTACCTGCGTTTTCACCGGCCGCTTAGA  TGCTTGGGAGAAAGGGCGGGGAAGGGAAAGCAGGTCGACCCAGGTT...\n",
       "CATTACCTGCCTGTACTTGACCTATTTGAT  TGCTTGGGTACGGATAGGAAGGGGACACAGGGGGTCGACCCAGGTT...\n",
       "...                                                                           ...\n",
       "CATTACCTGCATGCCGGCACACTCCCCCGC  TGCTTGGAAGGGTTGAAATACATACGGGTAACGGTCGACCCAGGTT...\n",
       "CATTACCTGCGAAACCCTGCCTCTAGTCCA  TGCTTGGTTTATGGTGGTGGAGAGAGAGCAGGGGTCGACCCAGGTT...\n",
       "CATTACCTGCCGGCTTGGAGTACCCCTCCT  TGCTTGGGTAATGAATCGGGTGGAGAAAAACGGGTCGACCCAGGTT...\n",
       "CATTACCTGCGACCACACGCTCTGGTCCAC  TGCTTGGATGCGGTCAAGAAGGGATAGGTACCGGTCGACCCAGGTT...\n",
       "CATTACCTGCCTTCTTGTGCGGCCTGTCCC  TGCTTGGGGTCCGCGCATCGTTCACAAAGGAAGGTCGACCCAGGTT...\n",
       "\n",
       "[265137 rows x 1 columns]"
      ]
     },
     "execution_count": 68,
     "metadata": {},
     "output_type": "execute_result"
    }
   ],
   "source": [
    "A5SS_seqs"
   ]
  },
  {
   "cell_type": "code",
   "execution_count": 88,
   "metadata": {},
   "outputs": [
    {
     "data": {
      "text/html": [
       "<div>\n",
       "<style scoped>\n",
       "    .dataframe tbody tr th:only-of-type {\n",
       "        vertical-align: middle;\n",
       "    }\n",
       "\n",
       "    .dataframe tbody tr th {\n",
       "        vertical-align: top;\n",
       "    }\n",
       "\n",
       "    .dataframe thead th {\n",
       "        text-align: right;\n",
       "    }\n",
       "</style>\n",
       "<table border=\"1\" class=\"dataframe\">\n",
       "  <thead>\n",
       "    <tr style=\"text-align: right;\">\n",
       "      <th></th>\n",
       "      <th>Seq</th>\n",
       "    </tr>\n",
       "  </thead>\n",
       "  <tbody>\n",
       "    <tr>\n",
       "      <th>count</th>\n",
       "      <td>265137</td>\n",
       "    </tr>\n",
       "    <tr>\n",
       "      <th>unique</th>\n",
       "      <td>264201</td>\n",
       "    </tr>\n",
       "    <tr>\n",
       "      <th>top</th>\n",
       "      <td>TGCTTGGACGAGACTAGGGGATAGGGGATCGGGGTCGACCCAGGTT...</td>\n",
       "    </tr>\n",
       "    <tr>\n",
       "      <th>freq</th>\n",
       "      <td>5</td>\n",
       "    </tr>\n",
       "  </tbody>\n",
       "</table>\n",
       "</div>"
      ],
      "text/plain": [
       "                                                      Seq\n",
       "count                                              265137\n",
       "unique                                             264201\n",
       "top     TGCTTGGACGAGACTAGGGGATAGGGGATCGGGGTCGACCCAGGTT...\n",
       "freq                                                    5"
      ]
     },
     "execution_count": 88,
     "metadata": {},
     "output_type": "execute_result"
    }
   ],
   "source": [
    "A5SS_seqs.describe()"
   ]
  },
  {
   "cell_type": "code",
   "execution_count": 76,
   "metadata": {},
   "outputs": [
    {
     "data": {
      "text/plain": [
       "array([['TGCTTGGTGAAGACAGAGAAAGAGAACCAAAAGGTCGACCCAGGTTCGTGAATCCGGTAACGCGGAGAGAATACAGAGGTATTCTTATCACCTTCGTGGCT'],\n",
       "       ['TGCTTGGTAAACAGGTTAAGGAACGTAACAATGGTCGACCCAGGTTCGTGGATATTTATCGTAACTGACATCATGGAGGTATTCTTATCACCTTCGTGGCT'],\n",
       "       ['TGCTTGGTTGAGAGCTGAGCTCACACAGGGTGGGTCGACCCAGGTTCGTGCGCTACGAAAGAAGATACCGCAAGCGAGGTATTCTTATCACCTTCGTGGCT'],\n",
       "       ...,\n",
       "       ['TGCTTGGGTAATGAATCGGGTGGAGAAAAACGGGTCGACCCAGGTTCGTGCGAGGCACGAGTACAAAGACGAAATGAGGTATTCTTATCACCTTCGTGGCT'],\n",
       "       ['TGCTTGGATGCGGTCAAGAAGGGATAGGTACCGGTCGACCCAGGTTCGTGCGAGCCCACGACTCAGGCCTAATATGAGGTATTCTTATCACCTTCGTGGCT'],\n",
       "       ['TGCTTGGGGTCCGCGCATCGTTCACAAAGGAAGGTCGACCCAGGTTCGTGGGCCATAGGTATTAGACTCAACGGCGAGGTATTCTTATCACCTTCGTGGCT']],\n",
       "      dtype=object)"
      ]
     },
     "execution_count": 76,
     "metadata": {},
     "output_type": "execute_result"
    }
   ],
   "source": [
    "arr"
   ]
  },
  {
   "cell_type": "code",
   "execution_count": 81,
   "metadata": {},
   "outputs": [
    {
     "data": {
      "text/html": [
       "<div>\n",
       "<style scoped>\n",
       "    .dataframe tbody tr th:only-of-type {\n",
       "        vertical-align: middle;\n",
       "    }\n",
       "\n",
       "    .dataframe tbody tr th {\n",
       "        vertical-align: top;\n",
       "    }\n",
       "\n",
       "    .dataframe thead th {\n",
       "        text-align: right;\n",
       "    }\n",
       "</style>\n",
       "<table border=\"1\" class=\"dataframe\">\n",
       "  <thead>\n",
       "    <tr style=\"text-align: right;\">\n",
       "      <th></th>\n",
       "      <th>Seq</th>\n",
       "    </tr>\n",
       "    <tr>\n",
       "      <th>Tag</th>\n",
       "      <th></th>\n",
       "    </tr>\n",
       "  </thead>\n",
       "  <tbody>\n",
       "    <tr>\n",
       "      <th>CATTACCTGCGCCCTTTCCGCCCTTATCTA</th>\n",
       "      <td>TGCTTGGTGAAGACAGAGAAAGAGAACCAAAAGGTCGACCCAGGTT...</td>\n",
       "    </tr>\n",
       "    <tr>\n",
       "      <th>CATTACCTGCTTTAACCTTCTCGCCTTATC</th>\n",
       "      <td>TGCTTGGTAAACAGGTTAAGGAACGTAACAATGGTCGACCCAGGTT...</td>\n",
       "    </tr>\n",
       "    <tr>\n",
       "      <th>CATTACCTGCAACTACCCTCCTGTTCGTAA</th>\n",
       "      <td>TGCTTGGTTGAGAGCTGAGCTCACACAGGGTGGGTCGACCCAGGTT...</td>\n",
       "    </tr>\n",
       "    <tr>\n",
       "      <th>CATTACCTGCGTTTTCACCGGCCGCTTAGA</th>\n",
       "      <td>TGCTTGGGAGAAAGGGCGGGGAAGGGAAAGCAGGTCGACCCAGGTT...</td>\n",
       "    </tr>\n",
       "    <tr>\n",
       "      <th>CATTACCTGCCTGTACTTGACCTATTTGAT</th>\n",
       "      <td>TGCTTGGGTACGGATAGGAAGGGGACACAGGGGGTCGACCCAGGTT...</td>\n",
       "    </tr>\n",
       "    <tr>\n",
       "      <th>...</th>\n",
       "      <td>...</td>\n",
       "    </tr>\n",
       "    <tr>\n",
       "      <th>CATTACCTGCATGCCGGCACACTCCCCCGC</th>\n",
       "      <td>TGCTTGGAAGGGTTGAAATACATACGGGTAACGGTCGACCCAGGTT...</td>\n",
       "    </tr>\n",
       "    <tr>\n",
       "      <th>CATTACCTGCGAAACCCTGCCTCTAGTCCA</th>\n",
       "      <td>TGCTTGGTTTATGGTGGTGGAGAGAGAGCAGGGGTCGACCCAGGTT...</td>\n",
       "    </tr>\n",
       "    <tr>\n",
       "      <th>CATTACCTGCCGGCTTGGAGTACCCCTCCT</th>\n",
       "      <td>TGCTTGGGTAATGAATCGGGTGGAGAAAAACGGGTCGACCCAGGTT...</td>\n",
       "    </tr>\n",
       "    <tr>\n",
       "      <th>CATTACCTGCGACCACACGCTCTGGTCCAC</th>\n",
       "      <td>TGCTTGGATGCGGTCAAGAAGGGATAGGTACCGGTCGACCCAGGTT...</td>\n",
       "    </tr>\n",
       "    <tr>\n",
       "      <th>CATTACCTGCCTTCTTGTGCGGCCTGTCCC</th>\n",
       "      <td>TGCTTGGGGTCCGCGCATCGTTCACAAAGGAAGGTCGACCCAGGTT...</td>\n",
       "    </tr>\n",
       "  </tbody>\n",
       "</table>\n",
       "<p>265137 rows × 1 columns</p>\n",
       "</div>"
      ],
      "text/plain": [
       "                                                                              Seq\n",
       "Tag                                                                              \n",
       "CATTACCTGCGCCCTTTCCGCCCTTATCTA  TGCTTGGTGAAGACAGAGAAAGAGAACCAAAAGGTCGACCCAGGTT...\n",
       "CATTACCTGCTTTAACCTTCTCGCCTTATC  TGCTTGGTAAACAGGTTAAGGAACGTAACAATGGTCGACCCAGGTT...\n",
       "CATTACCTGCAACTACCCTCCTGTTCGTAA  TGCTTGGTTGAGAGCTGAGCTCACACAGGGTGGGTCGACCCAGGTT...\n",
       "CATTACCTGCGTTTTCACCGGCCGCTTAGA  TGCTTGGGAGAAAGGGCGGGGAAGGGAAAGCAGGTCGACCCAGGTT...\n",
       "CATTACCTGCCTGTACTTGACCTATTTGAT  TGCTTGGGTACGGATAGGAAGGGGACACAGGGGGTCGACCCAGGTT...\n",
       "...                                                                           ...\n",
       "CATTACCTGCATGCCGGCACACTCCCCCGC  TGCTTGGAAGGGTTGAAATACATACGGGTAACGGTCGACCCAGGTT...\n",
       "CATTACCTGCGAAACCCTGCCTCTAGTCCA  TGCTTGGTTTATGGTGGTGGAGAGAGAGCAGGGGTCGACCCAGGTT...\n",
       "CATTACCTGCCGGCTTGGAGTACCCCTCCT  TGCTTGGGTAATGAATCGGGTGGAGAAAAACGGGTCGACCCAGGTT...\n",
       "CATTACCTGCGACCACACGCTCTGGTCCAC  TGCTTGGATGCGGTCAAGAAGGGATAGGTACCGGTCGACCCAGGTT...\n",
       "CATTACCTGCCTTCTTGTGCGGCCTGTCCC  TGCTTGGGGTCCGCGCATCGTTCACAAAGGAAGGTCGACCCAGGTT...\n",
       "\n",
       "[265137 rows x 1 columns]"
      ]
     },
     "execution_count": 81,
     "metadata": {},
     "output_type": "execute_result"
    }
   ],
   "source": [
    "A5SS_seqs"
   ]
  },
  {
   "cell_type": "code",
   "execution_count": 85,
   "metadata": {},
   "outputs": [
    {
     "data": {
      "text/plain": [
       "'TGCTTGGTAAACAGGTTAAGGAACGTAACAATGGTCGACCCAGGTTCGTGGATATTTATCGTAACTGACATCATGGAGGTATTCTTATCACCTTCGTGGCT'"
      ]
     },
     "execution_count": 85,
     "metadata": {},
     "output_type": "execute_result"
    }
   ],
   "source": [
    "A5SS_seqs[1][0]"
   ]
  }
 ],
 "metadata": {
  "kernelspec": {
   "display_name": "Python 3",
   "language": "python",
   "name": "python3"
  },
  "language_info": {
   "codemirror_mode": {
    "name": "ipython",
    "version": 3
   },
   "file_extension": ".py",
   "mimetype": "text/x-python",
   "name": "python",
   "nbconvert_exporter": "python",
   "pygments_lexer": "ipython3",
   "version": "3.8.3"
  }
 },
 "nbformat": 4,
 "nbformat_minor": 4
}
